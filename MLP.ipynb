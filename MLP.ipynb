{
 "cells": [
  {
   "cell_type": "code",
   "execution_count": 3,
   "id": "b94f66211a7502aa",
   "metadata": {
    "ExecuteTime": {
     "end_time": "2024-09-20T03:45:01.298496Z",
     "start_time": "2024-09-20T03:45:01.288677Z"
    },
    "collapsed": false
   },
   "outputs": [],
   "source": [
    "import pandas as pd\n",
    "import numpy as np "
   ]
  },
  {
   "cell_type": "code",
   "execution_count": 4,
   "id": "b722307dc25fb288",
   "metadata": {
    "ExecuteTime": {
     "end_time": "2024-09-20T03:45:01.686662Z",
     "start_time": "2024-09-20T03:45:01.674881Z"
    },
    "collapsed": false
   },
   "outputs": [],
   "source": [
    "#give column names to dataset "
   ]
  },
  {
   "cell_type": "code",
   "execution_count": 5,
   "id": "5707ab3fef300b66",
   "metadata": {
    "ExecuteTime": {
     "end_time": "2024-09-20T03:45:01.787741Z",
     "start_time": "2024-09-20T03:45:01.779687Z"
    },
    "collapsed": false
   },
   "outputs": [],
   "source": [
    "\n",
    "\n",
    "file_path = \"ecoli.data\"\n",
    "column_names = [\"Sequence Name\", \"mcg\", \"gvh\", \"lip\", \"chg\", \"aac\", \"alm1\", \"alm2\", \"class\"]"
   ]
  },
  {
   "cell_type": "code",
   "execution_count": 6,
   "id": "2c3065fe5fea8f27",
   "metadata": {
    "ExecuteTime": {
     "end_time": "2024-09-20T03:45:01.912496Z",
     "start_time": "2024-09-20T03:45:01.832766Z"
    },
    "collapsed": false
   },
   "outputs": [],
   "source": [
    "#read the data and assign the column name the dataset"
   ]
  },
  {
   "cell_type": "code",
   "execution_count": 7,
   "id": "c077c97a4425006c",
   "metadata": {
    "ExecuteTime": {
     "end_time": "2024-09-20T03:45:03.148561Z",
     "start_time": "2024-09-20T03:45:03.105598Z"
    },
    "collapsed": false
   },
   "outputs": [
    {
     "name": "stdout",
     "output_type": "stream",
     "text": [
      "    Sequence Name   mcg   gvh   lip  chg   aac  alm1  alm2 class\n",
      "0       AAT_ECOLI  0.49  0.29  0.48  0.5  0.56  0.24  0.35    cp\n",
      "1      ACEA_ECOLI  0.07  0.40  0.48  0.5  0.54  0.35  0.44    cp\n",
      "2      ACEK_ECOLI  0.56  0.40  0.48  0.5  0.49  0.37  0.46    cp\n",
      "3      ACKA_ECOLI  0.59  0.49  0.48  0.5  0.52  0.45  0.36    cp\n",
      "4       ADI_ECOLI  0.23  0.32  0.48  0.5  0.55  0.25  0.35    cp\n",
      "..            ...   ...   ...   ...  ...   ...   ...   ...   ...\n",
      "331    TREA_ECOLI  0.74  0.56  0.48  0.5  0.47  0.68  0.30    pp\n",
      "332    UGPB_ECOLI  0.71  0.57  0.48  0.5  0.48  0.35  0.32    pp\n",
      "333    USHA_ECOLI  0.61  0.60  0.48  0.5  0.44  0.39  0.38    pp\n",
      "334    XYLF_ECOLI  0.59  0.61  0.48  0.5  0.42  0.42  0.37    pp\n",
      "335    YTFQ_ECOLI  0.74  0.74  0.48  0.5  0.31  0.53  0.52    pp\n",
      "\n",
      "[336 rows x 9 columns]\n"
     ]
    }
   ],
   "source": [
    "\n",
    "readFile = pd.read_csv(file_path, sep='\\\\s+', names=column_names)\n",
    "#print the  top 5 element  \n",
    "print(readFile)\n"
   ]
  },
  {
   "cell_type": "code",
   "execution_count": 8,
   "id": "a5fa483cdc752001",
   "metadata": {
    "ExecuteTime": {
     "end_time": "2024-09-20T03:45:03.277432Z",
     "start_time": "2024-09-20T03:45:03.262784Z"
    },
    "collapsed": false
   },
   "outputs": [],
   "source": [
    "# Filter the dataset to include only rows where the 'class' column is either 'cp' or 'im'\n",
    "filtered_df = readFile[readFile['class'].isin(['cp', 'im'])]"
   ]
  },
  {
   "cell_type": "code",
   "execution_count": 9,
   "id": "1b76c50c1db6410d",
   "metadata": {
    "ExecuteTime": {
     "end_time": "2024-09-20T03:45:03.406566Z",
     "start_time": "2024-09-20T03:45:03.395454Z"
    },
    "collapsed": false
   },
   "outputs": [],
   "source": [
    "# Drop the 'Sequence Name' column since it is not relevant to the model\n",
    "df = filtered_df.drop(columns=[\"Sequence Name\"])\n"
   ]
  },
  {
   "cell_type": "code",
   "execution_count": 10,
   "id": "bd82352c",
   "metadata": {},
   "outputs": [
    {
     "name": "stdout",
     "output_type": "stream",
     "text": [
      "      mcg   gvh   lip  chg   aac  alm1  alm2 class\n",
      "0    0.49  0.29  0.48  0.5  0.56  0.24  0.35    cp\n",
      "1    0.07  0.40  0.48  0.5  0.54  0.35  0.44    cp\n",
      "2    0.56  0.40  0.48  0.5  0.49  0.37  0.46    cp\n",
      "3    0.59  0.49  0.48  0.5  0.52  0.45  0.36    cp\n",
      "4    0.23  0.32  0.48  0.5  0.55  0.25  0.35    cp\n",
      "..    ...   ...   ...  ...   ...   ...   ...   ...\n",
      "215  0.10  0.49  0.48  0.5  0.41  0.67  0.21    im\n",
      "216  0.30  0.51  0.48  0.5  0.42  0.61  0.34    im\n",
      "217  0.61  0.47  0.48  0.5  0.00  0.80  0.32    im\n",
      "218  0.63  0.75  0.48  0.5  0.64  0.73  0.66    im\n",
      "219  0.71  0.52  0.48  0.5  0.64  1.00  0.99    im\n",
      "\n",
      "[220 rows x 8 columns]\n"
     ]
    }
   ],
   "source": [
    "# Display the filtered dataset\n",
    "print(df)"
   ]
  },
  {
   "cell_type": "code",
   "execution_count": 11,
   "id": "784fe8b69c60f37c",
   "metadata": {
    "ExecuteTime": {
     "end_time": "2024-09-20T03:45:03.513920Z",
     "start_time": "2024-09-20T03:45:03.488726Z"
    },
    "collapsed": false
   },
   "outputs": [
    {
     "data": {
      "text/plain": [
       "(220, 8)"
      ]
     },
     "execution_count": 11,
     "metadata": {},
     "output_type": "execute_result"
    }
   ],
   "source": [
    "df.shape #find the size of the data set rows and columns "
   ]
  },
  {
   "cell_type": "code",
   "execution_count": 12,
   "id": "e684ef7e4ce1cd4d",
   "metadata": {
    "ExecuteTime": {
     "end_time": "2024-09-20T03:45:03.545411Z",
     "start_time": "2024-09-20T03:45:03.518940Z"
    },
    "collapsed": false
   },
   "outputs": [
    {
     "name": "stdout",
     "output_type": "stream",
     "text": [
      "      mcg   gvh   lip  chg   aac  alm1  alm2  class\n",
      "0    0.49  0.29  0.48  0.5  0.56  0.24  0.35      0\n",
      "1    0.07  0.40  0.48  0.5  0.54  0.35  0.44      0\n",
      "2    0.56  0.40  0.48  0.5  0.49  0.37  0.46      0\n",
      "3    0.59  0.49  0.48  0.5  0.52  0.45  0.36      0\n",
      "4    0.23  0.32  0.48  0.5  0.55  0.25  0.35      0\n",
      "..    ...   ...   ...  ...   ...   ...   ...    ...\n",
      "215  0.10  0.49  0.48  0.5  0.41  0.67  0.21      1\n",
      "216  0.30  0.51  0.48  0.5  0.42  0.61  0.34      1\n",
      "217  0.61  0.47  0.48  0.5  0.00  0.80  0.32      1\n",
      "218  0.63  0.75  0.48  0.5  0.64  0.73  0.66      1\n",
      "219  0.71  0.52  0.48  0.5  0.64  1.00  0.99      1\n",
      "\n",
      "[220 rows x 8 columns]\n"
     ]
    }
   ],
   "source": [
    "\n",
    "# Convert 'cp' and 'im' to numerical values (0 and 1)\n",
    "df['class'] = df['class'].map({\"cp\": 0, \"im\": 1})\n",
    "print(df)"
   ]
  },
  {
   "cell_type": "code",
   "execution_count": 13,
   "id": "484729d6e50911af",
   "metadata": {
    "ExecuteTime": {
     "end_time": "2024-09-20T03:45:03.592660Z",
     "start_time": "2024-09-20T03:45:03.583433Z"
    },
    "collapsed": false
   },
   "outputs": [],
   "source": [
    "#find the amount of the cp and im "
   ]
  },
  {
   "cell_type": "code",
   "execution_count": 14,
   "id": "88909c676c352448",
   "metadata": {
    "ExecuteTime": {
     "end_time": "2024-09-20T03:45:03.699592Z",
     "start_time": "2024-09-20T03:45:03.684675Z"
    },
    "collapsed": false
   },
   "outputs": [
    {
     "data": {
      "text/plain": [
       "class\n",
       "0    143\n",
       "1     77\n",
       "Name: count, dtype: int64"
      ]
     },
     "execution_count": 14,
     "metadata": {},
     "output_type": "execute_result"
    }
   ],
   "source": [
    "df[\"class\"].value_counts()"
   ]
  },
  {
   "cell_type": "code",
   "execution_count": 15,
   "id": "493498ee6eeb7efd",
   "metadata": {
    "ExecuteTime": {
     "end_time": "2024-09-20T03:45:03.748369Z",
     "start_time": "2024-09-20T03:45:03.739609Z"
    },
    "collapsed": false
   },
   "outputs": [],
   "source": [
    "#add the standardscaler and traintest spilit "
   ]
  },
  {
   "cell_type": "code",
   "execution_count": 16,
   "id": "5dabe2cc55da1268",
   "metadata": {
    "ExecuteTime": {
     "end_time": "2024-09-20T03:45:03.858710Z",
     "start_time": "2024-09-20T03:45:03.851399Z"
    },
    "collapsed": false
   },
   "outputs": [],
   "source": [
    "from sklearn.preprocessing import StandardScaler\n",
    "from sklearn.model_selection import train_test_split"
   ]
  },
  {
   "cell_type": "code",
   "execution_count": 17,
   "id": "a99f1eb72654ae34",
   "metadata": {
    "ExecuteTime": {
     "end_time": "2024-09-20T03:45:03.920040Z",
     "start_time": "2024-09-20T03:45:03.913726Z"
    },
    "collapsed": false
   },
   "outputs": [],
   "source": [
    "#make the x and y  "
   ]
  },
  {
   "cell_type": "code",
   "execution_count": 18,
   "id": "ecb9fb0eafd190ec",
   "metadata": {
    "ExecuteTime": {
     "end_time": "2024-09-20T03:45:03.951372Z",
     "start_time": "2024-09-20T03:45:03.942068Z"
    },
    "collapsed": false
   },
   "outputs": [],
   "source": [
    "x = df.drop(columns=['class'])  # Features\n",
    "y = df['class']  # Target"
   ]
  },
  {
   "cell_type": "code",
   "execution_count": 19,
   "id": "1caa9b7ca83f5f16",
   "metadata": {
    "ExecuteTime": {
     "end_time": "2024-09-20T03:45:04.014928Z",
     "start_time": "2024-09-20T03:45:03.996392Z"
    },
    "collapsed": false
   },
   "outputs": [
    {
     "name": "stdout",
     "output_type": "stream",
     "text": [
      "      mcg   gvh   lip  chg   aac  alm1  alm2\n",
      "0    0.49  0.29  0.48  0.5  0.56  0.24  0.35\n",
      "1    0.07  0.40  0.48  0.5  0.54  0.35  0.44\n",
      "2    0.56  0.40  0.48  0.5  0.49  0.37  0.46\n",
      "3    0.59  0.49  0.48  0.5  0.52  0.45  0.36\n",
      "4    0.23  0.32  0.48  0.5  0.55  0.25  0.35\n",
      "..    ...   ...   ...  ...   ...   ...   ...\n",
      "215  0.10  0.49  0.48  0.5  0.41  0.67  0.21\n",
      "216  0.30  0.51  0.48  0.5  0.42  0.61  0.34\n",
      "217  0.61  0.47  0.48  0.5  0.00  0.80  0.32\n",
      "218  0.63  0.75  0.48  0.5  0.64  0.73  0.66\n",
      "219  0.71  0.52  0.48  0.5  0.64  1.00  0.99\n",
      "\n",
      "[220 rows x 7 columns]\n"
     ]
    }
   ],
   "source": [
    "print(x)"
   ]
  },
  {
   "cell_type": "code",
   "execution_count": 20,
   "id": "a1cb2483e499b38b",
   "metadata": {
    "ExecuteTime": {
     "end_time": "2024-09-20T03:45:04.033787Z",
     "start_time": "2024-09-20T03:45:04.026953Z"
    },
    "collapsed": false
   },
   "outputs": [
    {
     "name": "stdout",
     "output_type": "stream",
     "text": [
      "0      0\n",
      "1      0\n",
      "2      0\n",
      "3      0\n",
      "4      0\n",
      "      ..\n",
      "215    1\n",
      "216    1\n",
      "217    1\n",
      "218    1\n",
      "219    1\n",
      "Name: class, Length: 220, dtype: int64\n"
     ]
    }
   ],
   "source": [
    "print(y)"
   ]
  },
  {
   "cell_type": "code",
   "execution_count": 21,
   "id": "f80447ecfa37b566",
   "metadata": {
    "ExecuteTime": {
     "end_time": "2024-09-20T03:45:04.052771Z",
     "start_time": "2024-09-20T03:45:04.045809Z"
    },
    "collapsed": false
   },
   "outputs": [],
   "source": [
    "# make the x and y to array "
   ]
  },
  {
   "cell_type": "code",
   "execution_count": 22,
   "id": "39be74167fceb8c0",
   "metadata": {
    "ExecuteTime": {
     "end_time": "2024-09-20T03:45:04.082629Z",
     "start_time": "2024-09-20T03:45:04.076786Z"
    },
    "collapsed": false
   },
   "outputs": [],
   "source": [
    "x = np.array(x)"
   ]
  },
  {
   "cell_type": "code",
   "execution_count": 23,
   "id": "acb37093c14f0fbe",
   "metadata": {
    "ExecuteTime": {
     "end_time": "2024-09-20T03:45:04.124942Z",
     "start_time": "2024-09-20T03:45:04.117650Z"
    },
    "collapsed": false
   },
   "outputs": [],
   "source": [
    "y = np.array(y)"
   ]
  },
  {
   "cell_type": "code",
   "execution_count": 24,
   "id": "3dc286f83711a3ae",
   "metadata": {
    "ExecuteTime": {
     "end_time": "2024-09-20T03:45:04.234524Z",
     "start_time": "2024-09-20T03:45:04.225972Z"
    },
    "collapsed": false
   },
   "outputs": [
    {
     "name": "stdout",
     "output_type": "stream",
     "text": [
      "[[0.49 0.29 0.48 ... 0.56 0.24 0.35]\n",
      " [0.07 0.4  0.48 ... 0.54 0.35 0.44]\n",
      " [0.56 0.4  0.48 ... 0.49 0.37 0.46]\n",
      " ...\n",
      " [0.61 0.47 0.48 ... 0.   0.8  0.32]\n",
      " [0.63 0.75 0.48 ... 0.64 0.73 0.66]\n",
      " [0.71 0.52 0.48 ... 0.64 1.   0.99]]\n"
     ]
    }
   ],
   "source": [
    "print(x)"
   ]
  },
  {
   "cell_type": "code",
   "execution_count": 25,
   "id": "5d33c6dab91a411b",
   "metadata": {
    "ExecuteTime": {
     "end_time": "2024-09-20T03:45:04.288219Z",
     "start_time": "2024-09-20T03:45:04.277549Z"
    },
    "collapsed": false
   },
   "outputs": [
    {
     "name": "stdout",
     "output_type": "stream",
     "text": [
      "[0 0 0 0 0 0 0 0 0 0 0 0 0 0 0 0 0 0 0 0 0 0 0 0 0 0 0 0 0 0 0 0 0 0 0 0 0\n",
      " 0 0 0 0 0 0 0 0 0 0 0 0 0 0 0 0 0 0 0 0 0 0 0 0 0 0 0 0 0 0 0 0 0 0 0 0 0\n",
      " 0 0 0 0 0 0 0 0 0 0 0 0 0 0 0 0 0 0 0 0 0 0 0 0 0 0 0 0 0 0 0 0 0 0 0 0 0\n",
      " 0 0 0 0 0 0 0 0 0 0 0 0 0 0 0 0 0 0 0 0 0 0 0 0 0 0 0 0 0 0 0 0 1 1 1 1 1\n",
      " 1 1 1 1 1 1 1 1 1 1 1 1 1 1 1 1 1 1 1 1 1 1 1 1 1 1 1 1 1 1 1 1 1 1 1 1 1\n",
      " 1 1 1 1 1 1 1 1 1 1 1 1 1 1 1 1 1 1 1 1 1 1 1 1 1 1 1 1 1 1 1 1 1 1 1]\n"
     ]
    }
   ],
   "source": [
    "print(y)"
   ]
  },
  {
   "cell_type": "code",
   "execution_count": 26,
   "id": "ce3fcd300b54ebb6",
   "metadata": {
    "ExecuteTime": {
     "end_time": "2024-09-20T03:45:04.346964Z",
     "start_time": "2024-09-20T03:45:04.341237Z"
    },
    "collapsed": false
   },
   "outputs": [],
   "source": [
    "#normalize\n",
    "#make the data between the 0 and 1\n"
   ]
  },
  {
   "cell_type": "code",
   "execution_count": 27,
   "id": "e07a5a0471328b57",
   "metadata": {
    "ExecuteTime": {
     "end_time": "2024-09-20T03:45:04.386765Z",
     "start_time": "2024-09-20T03:45:04.375981Z"
    },
    "collapsed": false
   },
   "outputs": [],
   "source": [
    "from sklearn.preprocessing import StandardScaler \n",
    "scaler = StandardScaler()\n",
    "x = scaler.fit_transform(x)"
   ]
  },
  {
   "cell_type": "code",
   "execution_count": 28,
   "id": "1eb971a3a2e29f9f",
   "metadata": {
    "ExecuteTime": {
     "end_time": "2024-09-20T03:45:04.476879Z",
     "start_time": "2024-09-20T03:45:04.466785Z"
    },
    "collapsed": false
   },
   "outputs": [
    {
     "name": "stdout",
     "output_type": "stream",
     "text": [
      "[[ 0.53507846 -1.53279614 -0.06757374 ...  0.73357223 -0.97320664\n",
      "  -0.8017078 ]\n",
      " [-2.07120777 -0.40976657 -0.06757374 ...  0.54292144 -0.50442478\n",
      "  -0.35780919]\n",
      " [ 0.9694595  -0.40976657 -0.06757374 ...  0.06629448 -0.41919172\n",
      "  -0.25916505]\n",
      " ...\n",
      " [ 1.27973167  0.30488861 -0.06757374 ... -4.60464978  1.4133192\n",
      "  -0.949674  ]\n",
      " [ 1.40384054  3.16350933 -0.06757374 ...  1.49617537  1.11500347\n",
      "   0.72727631]\n",
      " [ 1.90027601  0.81535659 -0.06757374 ...  1.49617537  2.26564986\n",
      "   2.35490456]]\n"
     ]
    }
   ],
   "source": [
    "print(x)"
   ]
  },
  {
   "cell_type": "code",
   "execution_count": 29,
   "id": "27e8e3b6943cc31c",
   "metadata": {
    "ExecuteTime": {
     "end_time": "2024-09-20T03:45:04.507260Z",
     "start_time": "2024-09-20T03:45:04.500898Z"
    },
    "collapsed": false
   },
   "outputs": [],
   "source": [
    "#we spilite the train and the test data "
   ]
  },
  {
   "cell_type": "code",
   "execution_count": 30,
   "id": "8808bd7595c8821f",
   "metadata": {
    "ExecuteTime": {
     "end_time": "2024-09-20T03:45:04.572437Z",
     "start_time": "2024-09-20T03:45:04.556285Z"
    },
    "collapsed": false
   },
   "outputs": [],
   "source": [
    "from sklearn.model_selection import train_test_split\n",
    "x_train, x_test, y_train, y_test = train_test_split(x, y, test_size=0.2, random_state=42)\n"
   ]
  },
  {
   "cell_type": "code",
   "execution_count": 31,
   "id": "249b106e646dfa63",
   "metadata": {
    "ExecuteTime": {
     "end_time": "2024-09-20T03:45:04.611108Z",
     "start_time": "2024-09-20T03:45:04.602463Z"
    },
    "collapsed": false
   },
   "outputs": [
    {
     "name": "stdout",
     "output_type": "stream",
     "text": [
      "(44, 7) (44,)\n"
     ]
    }
   ],
   "source": [
    "print(x_test.shape, y_test.shape)"
   ]
  },
  {
   "cell_type": "code",
   "execution_count": 32,
   "id": "25264a78c95f6115",
   "metadata": {
    "ExecuteTime": {
     "end_time": "2024-09-20T03:45:04.658064Z",
     "start_time": "2024-09-20T03:45:04.651122Z"
    },
    "collapsed": false
   },
   "outputs": [
    {
     "name": "stdout",
     "output_type": "stream",
     "text": [
      "(176, 7) (176,)\n"
     ]
    }
   ],
   "source": [
    "print(x_train.shape, y_train.shape)  "
   ]
  },
  {
   "cell_type": "code",
   "execution_count": 33,
   "id": "b0fba758e281c7d0",
   "metadata": {
    "collapsed": false
   },
   "outputs": [],
   "source": [
    "#implemenation of Multilayer perceptron"
   ]
  },
  {
   "cell_type": "code",
   "execution_count": 34,
   "id": "ab5b51da08c11b30",
   "metadata": {
    "ExecuteTime": {
     "end_time": "2024-09-20T03:53:03.669842Z",
     "start_time": "2024-09-20T03:53:03.637441Z"
    },
    "collapsed": false
   },
   "outputs": [],
   "source": [
    "# Define sigmoid function and its derivative\n",
    "def sigmoid(x):\n",
    "    return 1 / (1 + np.exp(-x))\n",
    "\n",
    "def sigmoid_derivative(x):\n",
    "    return x * (1 - x)\n"
   ]
  },
  {
   "cell_type": "code",
   "execution_count": 36,
   "id": "7f460a34",
   "metadata": {},
   "outputs": [
    {
     "name": "stdout",
     "output_type": "stream",
     "text": [
      "Test Accuracy: 0.57\n",
      "[[0]\n",
      " [1]\n",
      " [0]\n",
      " [1]\n",
      " [0]\n",
      " [0]\n",
      " [1]\n",
      " [1]\n",
      " [0]\n",
      " [0]\n",
      " [0]\n",
      " [0]\n",
      " [1]\n",
      " [0]\n",
      " [0]\n",
      " [1]\n",
      " [1]\n",
      " [0]\n",
      " [1]\n",
      " [0]\n",
      " [1]\n",
      " [0]\n",
      " [1]\n",
      " [0]\n",
      " [0]\n",
      " [1]\n",
      " [0]\n",
      " [0]\n",
      " [0]\n",
      " [1]\n",
      " [0]\n",
      " [0]\n",
      " [0]\n",
      " [1]\n",
      " [0]\n",
      " [0]\n",
      " [0]\n",
      " [0]\n",
      " [0]\n",
      " [0]\n",
      " [0]\n",
      " [1]\n",
      " [0]\n",
      " [0]]\n"
     ]
    }
   ],
   "source": [
    "class MLP:\n",
    "    def __init__(self, input_size, hidden_size, output_size, learning_rate=0.01):\n",
    "        # Initialize weights and biases\n",
    "        self.inputSize = input_size\n",
    "        self.hiddenSize = hidden_size\n",
    "        self.outputSize = output_size\n",
    "        self.learningRate = learning_rate\n",
    "\n",
    "        # Initialize weights and biases for the layers\n",
    "        self.weightInput = np.random.randn(input_size, hidden_size)\n",
    "        self.weightOutput = np.random.randn(hidden_size, output_size)\n",
    "\n",
    "        self.hiddenBias = np.zeros((1, hidden_size))\n",
    "        self.outputBias = np.zeros((1, output_size))\n",
    "\n",
    "    # Forward propagation\n",
    "    def forward(self, x):\n",
    "        # Compute input to the hidden layer\n",
    "        self.hiddenInput = np.dot(x, self.weightInput) + self.hiddenBias\n",
    "        self.hiddenOutput = sigmoid(self.hiddenInput)\n",
    "\n",
    "        # Compute input to the output layer\n",
    "        self.outputInput = np.dot(self.hiddenOutput, self.weightOutput) + self.outputBias\n",
    "        self.outputOutput = sigmoid(self.outputInput)\n",
    "\n",
    "        return self.outputOutput\n",
    "\n",
    "    def backward(self, x, y, output):\n",
    "        # Ensure y and output are the correct shape (reshape if needed)\n",
    "        if y.ndim == 1:\n",
    "            y = y.reshape(-1, 1)  # Reshape y to (batch_size, 1)\n",
    "\n",
    "        # Calculate the output error (difference between actual and predicted)\n",
    "        output_error = y - output\n",
    "\n",
    "        # Calculate the gradient (delta) for the output layer\n",
    "        outputDecent = output_error * sigmoid_derivative(output)\n",
    "\n",
    "        # Calculate the hidden layer error\n",
    "        hidden_error = np.dot(outputDecent, self.weightOutput.T)\n",
    "        hiddenDecent = hidden_error * sigmoid_derivative(self.hiddenOutput)\n",
    "\n",
    "        # Update weights and biases between hidden and output layer\n",
    "        self.weightOutput += np.dot(self.hiddenOutput.T, outputDecent) * self.learningRate\n",
    "        self.outputBias += np.sum(outputDecent, axis=0, keepdims=True) * self.learningRate\n",
    "\n",
    "        # Update weights and biases between input and hidden layer\n",
    "        self.weightInput += np.dot(x.T, hiddenDecent) * self.learningRate\n",
    "        self.hiddenBias += np.sum(hiddenDecent, axis=0, keepdims=True) * self.learningRate\n",
    "\n",
    "    # Train the MLP\n",
    "    def fit(self, x, y, epochs=1000):\n",
    "        for epoch in range(epochs):\n",
    "            result = self.forward(x)\n",
    "            self.backward(x, y, result)\n",
    "\n",
    "    # Predict method\n",
    "    def predict(self, X):\n",
    "        output = self.forward(X)\n",
    "        return (output > 0.5).astype(int)\n",
    "\n",
    "\n",
    "# Initialize the MLP with the input size matching the number of features (7 features), hidden neurons, and 1 output for binary classification\n",
    "mlp = MLP(input_size=7, hidden_size=4, output_size=1)\n",
    "\n",
    "# Assuming `x_train`, `y_train`, `x_test`, and `y_test` are preprocessed and ready\n",
    "mlp.fit(x_train, y_train, epochs=1000)\n",
    "\n",
    "# Make predictions on the test data\n",
    "y_pred = mlp.predict(x_test)\n",
    "\n",
    "# Evaluate the accuracy of the model\n",
    "accuracy = np.mean(y_pred == y_test)\n",
    "print(f\"Test Accuracy: {accuracy:.2f}\")\n",
    "\n",
    "print(y_pred)"
   ]
  },
  {
   "cell_type": "code",
   "execution_count": null,
   "id": "0601a95b",
   "metadata": {},
   "outputs": [],
   "source": []
  }
 ],
 "metadata": {
  "kernelspec": {
   "display_name": "Python 3",
   "language": "python",
   "name": "python3"
  },
  "language_info": {
   "codemirror_mode": {
    "name": "ipython",
    "version": 3
   },
   "file_extension": ".py",
   "mimetype": "text/x-python",
   "name": "python",
   "nbconvert_exporter": "python",
   "pygments_lexer": "ipython3",
   "version": "3.12.0"
  }
 },
 "nbformat": 4,
 "nbformat_minor": 5
}
