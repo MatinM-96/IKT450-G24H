﻿{
 "cells": [
  {
   "cell_type": "code",
   "outputs": [],
   "source": [
    "import pandas as pd\n",
    "import numpy as np "
   ],
   "metadata": {
    "collapsed": false,
    "ExecuteTime": {
     "end_time": "2024-09-20T03:45:01.298496Z",
     "start_time": "2024-09-20T03:45:01.288677Z"
    }
   },
   "id": "b94f66211a7502aa",
   "execution_count": 295
  },
  {
   "cell_type": "code",
   "outputs": [],
   "source": [
    "#give column names to dataset "
   ],
   "metadata": {
    "collapsed": false,
    "ExecuteTime": {
     "end_time": "2024-09-20T03:45:01.686662Z",
     "start_time": "2024-09-20T03:45:01.674881Z"
    }
   },
   "id": "b722307dc25fb288",
   "execution_count": 296
  },
  {
   "cell_type": "code",
   "outputs": [],
   "source": [
    "\n",
    "\n",
    "file_path = \"ecoli.data\"\n",
    "column_names = [\"Sequence Name\", \"mcg\", \"gvh\", \"lip\", \"chg\", \"aac\", \"alm1\", \"alm2\", \"class\"]"
   ],
   "metadata": {
    "collapsed": false,
    "ExecuteTime": {
     "end_time": "2024-09-20T03:45:01.787741Z",
     "start_time": "2024-09-20T03:45:01.779687Z"
    }
   },
   "id": "5707ab3fef300b66",
   "execution_count": 297
  },
  {
   "cell_type": "code",
   "outputs": [],
   "source": [
    "#read the data and assign the column name the dataset"
   ],
   "metadata": {
    "collapsed": false,
    "ExecuteTime": {
     "end_time": "2024-09-20T03:45:01.912496Z",
     "start_time": "2024-09-20T03:45:01.832766Z"
    }
   },
   "id": "2c3065fe5fea8f27",
   "execution_count": 298
  },
  {
   "cell_type": "code",
   "outputs": [
    {
     "name": "stdout",
     "output_type": "stream",
     "text": [
      "    Sequence Name   mcg   gvh   lip  chg   aac  alm1  alm2 class\n",
      "0       AAT_ECOLI  0.49  0.29  0.48  0.5  0.56  0.24  0.35    cp\n",
      "1      ACEA_ECOLI  0.07  0.40  0.48  0.5  0.54  0.35  0.44    cp\n",
      "2      ACEK_ECOLI  0.56  0.40  0.48  0.5  0.49  0.37  0.46    cp\n",
      "3      ACKA_ECOLI  0.59  0.49  0.48  0.5  0.52  0.45  0.36    cp\n",
      "4       ADI_ECOLI  0.23  0.32  0.48  0.5  0.55  0.25  0.35    cp\n",
      "..            ...   ...   ...   ...  ...   ...   ...   ...   ...\n",
      "331    TREA_ECOLI  0.74  0.56  0.48  0.5  0.47  0.68  0.30    pp\n",
      "332    UGPB_ECOLI  0.71  0.57  0.48  0.5  0.48  0.35  0.32    pp\n",
      "333    USHA_ECOLI  0.61  0.60  0.48  0.5  0.44  0.39  0.38    pp\n",
      "334    XYLF_ECOLI  0.59  0.61  0.48  0.5  0.42  0.42  0.37    pp\n",
      "335    YTFQ_ECOLI  0.74  0.74  0.48  0.5  0.31  0.53  0.52    pp\n",
      "\n",
      "[336 rows x 9 columns]\n"
     ]
    }
   ],
   "source": [
    "\n",
    "readFile = pd.read_csv(file_path, sep='\\\\s+', names=column_names)\n",
    "#print the  top 5 element  \n",
    "print(readFile)\n"
   ],
   "metadata": {
    "collapsed": false,
    "ExecuteTime": {
     "end_time": "2024-09-20T03:45:03.148561Z",
     "start_time": "2024-09-20T03:45:03.105598Z"
    }
   },
   "id": "c077c97a4425006c",
   "execution_count": 299
  },
  {
   "cell_type": "code",
   "outputs": [],
   "source": [
    "# Filter the dataset to include only rows where the 'class' column is either 'cp' or 'im'"
   ],
   "metadata": {
    "collapsed": false,
    "ExecuteTime": {
     "end_time": "2024-09-20T03:45:03.205759Z",
     "start_time": "2024-09-20T03:45:03.187579Z"
    }
   },
   "id": "d6dc3d9c3a8a7c6",
   "execution_count": 300
  },
  {
   "cell_type": "code",
   "outputs": [],
   "source": [
    "filtered_df = readFile[readFile['class'].isin(['cp', 'im'])]"
   ],
   "metadata": {
    "collapsed": false,
    "ExecuteTime": {
     "end_time": "2024-09-20T03:45:03.277432Z",
     "start_time": "2024-09-20T03:45:03.262784Z"
    }
   },
   "id": "a5fa483cdc752001",
   "execution_count": 301
  },
  {
   "cell_type": "code",
   "outputs": [],
   "source": [
    "# Drop the 'Sequence Name' column since it is not relevant to the model"
   ],
   "metadata": {
    "collapsed": false,
    "ExecuteTime": {
     "end_time": "2024-09-20T03:45:03.406566Z",
     "start_time": "2024-09-20T03:45:03.395454Z"
    }
   },
   "id": "1b76c50c1db6410d",
   "execution_count": 302
  },
  {
   "cell_type": "code",
   "outputs": [
    {
     "name": "stdout",
     "output_type": "stream",
     "text": [
      "      mcg   gvh   lip  chg   aac  alm1  alm2 class\n",
      "0    0.49  0.29  0.48  0.5  0.56  0.24  0.35    cp\n",
      "1    0.07  0.40  0.48  0.5  0.54  0.35  0.44    cp\n",
      "2    0.56  0.40  0.48  0.5  0.49  0.37  0.46    cp\n",
      "3    0.59  0.49  0.48  0.5  0.52  0.45  0.36    cp\n",
      "4    0.23  0.32  0.48  0.5  0.55  0.25  0.35    cp\n",
      "..    ...   ...   ...  ...   ...   ...   ...   ...\n",
      "215  0.10  0.49  0.48  0.5  0.41  0.67  0.21    im\n",
      "216  0.30  0.51  0.48  0.5  0.42  0.61  0.34    im\n",
      "217  0.61  0.47  0.48  0.5  0.00  0.80  0.32    im\n",
      "218  0.63  0.75  0.48  0.5  0.64  0.73  0.66    im\n",
      "219  0.71  0.52  0.48  0.5  0.64  1.00  0.99    im\n",
      "\n",
      "[220 rows x 8 columns]\n"
     ]
    }
   ],
   "source": [
    "df = filtered_df.drop(columns=[\"Sequence Name\"])\n",
    "# Display the filtered dataset\n",
    "print(df)"
   ],
   "metadata": {
    "collapsed": false,
    "ExecuteTime": {
     "end_time": "2024-09-20T03:45:03.477699Z",
     "start_time": "2024-09-20T03:45:03.455585Z"
    }
   },
   "id": "43fe85b3f7566e67",
   "execution_count": 303
  },
  {
   "cell_type": "code",
   "outputs": [
    {
     "data": {
      "text/plain": "(220, 8)"
     },
     "execution_count": 304,
     "metadata": {},
     "output_type": "execute_result"
    }
   ],
   "source": [
    "df.shape #find the size of the data set rows and columns "
   ],
   "metadata": {
    "collapsed": false,
    "ExecuteTime": {
     "end_time": "2024-09-20T03:45:03.513920Z",
     "start_time": "2024-09-20T03:45:03.488726Z"
    }
   },
   "id": "784fe8b69c60f37c",
   "execution_count": 304
  },
  {
   "cell_type": "code",
   "outputs": [
    {
     "name": "stdout",
     "output_type": "stream",
     "text": [
      "      mcg   gvh   lip  chg   aac  alm1  alm2  class\n",
      "0    0.49  0.29  0.48  0.5  0.56  0.24  0.35      0\n",
      "1    0.07  0.40  0.48  0.5  0.54  0.35  0.44      0\n",
      "2    0.56  0.40  0.48  0.5  0.49  0.37  0.46      0\n",
      "3    0.59  0.49  0.48  0.5  0.52  0.45  0.36      0\n",
      "4    0.23  0.32  0.48  0.5  0.55  0.25  0.35      0\n",
      "..    ...   ...   ...  ...   ...   ...   ...    ...\n",
      "215  0.10  0.49  0.48  0.5  0.41  0.67  0.21      1\n",
      "216  0.30  0.51  0.48  0.5  0.42  0.61  0.34      1\n",
      "217  0.61  0.47  0.48  0.5  0.00  0.80  0.32      1\n",
      "218  0.63  0.75  0.48  0.5  0.64  0.73  0.66      1\n",
      "219  0.71  0.52  0.48  0.5  0.64  1.00  0.99      1\n",
      "\n",
      "[220 rows x 8 columns]\n"
     ]
    }
   ],
   "source": [
    "\n",
    "# Convert 'cp' and 'im' to numerical values (0 and 1)\n",
    "df['class'] = df['class'].map({\"cp\": 0, \"im\": 1})\n",
    "print(df)"
   ],
   "metadata": {
    "collapsed": false,
    "ExecuteTime": {
     "end_time": "2024-09-20T03:45:03.545411Z",
     "start_time": "2024-09-20T03:45:03.518940Z"
    }
   },
   "id": "e684ef7e4ce1cd4d",
   "execution_count": 305
  },
  {
   "cell_type": "code",
   "outputs": [],
   "source": [
    "#find the amount of the cp and im "
   ],
   "metadata": {
    "collapsed": false,
    "ExecuteTime": {
     "end_time": "2024-09-20T03:45:03.592660Z",
     "start_time": "2024-09-20T03:45:03.583433Z"
    }
   },
   "id": "484729d6e50911af",
   "execution_count": 306
  },
  {
   "cell_type": "code",
   "outputs": [
    {
     "data": {
      "text/plain": "class\n0    143\n1     77\nName: count, dtype: int64"
     },
     "execution_count": 307,
     "metadata": {},
     "output_type": "execute_result"
    }
   ],
   "source": [
    "df[\"class\"].value_counts()"
   ],
   "metadata": {
    "collapsed": false,
    "ExecuteTime": {
     "end_time": "2024-09-20T03:45:03.699592Z",
     "start_time": "2024-09-20T03:45:03.684675Z"
    }
   },
   "id": "88909c676c352448",
   "execution_count": 307
  },
  {
   "cell_type": "code",
   "outputs": [],
   "source": [
    "#add the standardscaler and traintest spilit "
   ],
   "metadata": {
    "collapsed": false,
    "ExecuteTime": {
     "end_time": "2024-09-20T03:45:03.748369Z",
     "start_time": "2024-09-20T03:45:03.739609Z"
    }
   },
   "id": "493498ee6eeb7efd",
   "execution_count": 308
  },
  {
   "cell_type": "code",
   "outputs": [],
   "source": [
    "from sklearn.preprocessing import StandardScaler\n",
    "from sklearn.model_selection import train_test_split"
   ],
   "metadata": {
    "collapsed": false,
    "ExecuteTime": {
     "end_time": "2024-09-20T03:45:03.858710Z",
     "start_time": "2024-09-20T03:45:03.851399Z"
    }
   },
   "id": "5dabe2cc55da1268",
   "execution_count": 309
  },
  {
   "cell_type": "code",
   "outputs": [],
   "source": [
    "#make the x and y  "
   ],
   "metadata": {
    "collapsed": false,
    "ExecuteTime": {
     "end_time": "2024-09-20T03:45:03.920040Z",
     "start_time": "2024-09-20T03:45:03.913726Z"
    }
   },
   "id": "a99f1eb72654ae34",
   "execution_count": 310
  },
  {
   "cell_type": "code",
   "outputs": [],
   "source": [
    "x = df.drop(columns=['class'])  # Features\n",
    "y = df['class']  # Target"
   ],
   "metadata": {
    "collapsed": false,
    "ExecuteTime": {
     "end_time": "2024-09-20T03:45:03.951372Z",
     "start_time": "2024-09-20T03:45:03.942068Z"
    }
   },
   "id": "ecb9fb0eafd190ec",
   "execution_count": 311
  },
  {
   "cell_type": "code",
   "outputs": [
    {
     "name": "stdout",
     "output_type": "stream",
     "text": [
      "      mcg   gvh   lip  chg   aac  alm1  alm2\n",
      "0    0.49  0.29  0.48  0.5  0.56  0.24  0.35\n",
      "1    0.07  0.40  0.48  0.5  0.54  0.35  0.44\n",
      "2    0.56  0.40  0.48  0.5  0.49  0.37  0.46\n",
      "3    0.59  0.49  0.48  0.5  0.52  0.45  0.36\n",
      "4    0.23  0.32  0.48  0.5  0.55  0.25  0.35\n",
      "..    ...   ...   ...  ...   ...   ...   ...\n",
      "215  0.10  0.49  0.48  0.5  0.41  0.67  0.21\n",
      "216  0.30  0.51  0.48  0.5  0.42  0.61  0.34\n",
      "217  0.61  0.47  0.48  0.5  0.00  0.80  0.32\n",
      "218  0.63  0.75  0.48  0.5  0.64  0.73  0.66\n",
      "219  0.71  0.52  0.48  0.5  0.64  1.00  0.99\n",
      "\n",
      "[220 rows x 7 columns]\n"
     ]
    }
   ],
   "source": [
    "print(x)"
   ],
   "metadata": {
    "collapsed": false,
    "ExecuteTime": {
     "end_time": "2024-09-20T03:45:04.014928Z",
     "start_time": "2024-09-20T03:45:03.996392Z"
    }
   },
   "id": "1caa9b7ca83f5f16",
   "execution_count": 312
  },
  {
   "cell_type": "code",
   "outputs": [
    {
     "name": "stdout",
     "output_type": "stream",
     "text": [
      "0      0\n",
      "1      0\n",
      "2      0\n",
      "3      0\n",
      "4      0\n",
      "      ..\n",
      "215    1\n",
      "216    1\n",
      "217    1\n",
      "218    1\n",
      "219    1\n",
      "Name: class, Length: 220, dtype: int64\n"
     ]
    }
   ],
   "source": [
    "print(y)"
   ],
   "metadata": {
    "collapsed": false,
    "ExecuteTime": {
     "end_time": "2024-09-20T03:45:04.033787Z",
     "start_time": "2024-09-20T03:45:04.026953Z"
    }
   },
   "id": "a1cb2483e499b38b",
   "execution_count": 313
  },
  {
   "cell_type": "code",
   "outputs": [],
   "source": [
    "# make the x and y to array "
   ],
   "metadata": {
    "collapsed": false,
    "ExecuteTime": {
     "end_time": "2024-09-20T03:45:04.052771Z",
     "start_time": "2024-09-20T03:45:04.045809Z"
    }
   },
   "id": "f80447ecfa37b566",
   "execution_count": 314
  },
  {
   "cell_type": "code",
   "outputs": [],
   "source": [
    "x = np.array(x)"
   ],
   "metadata": {
    "collapsed": false,
    "ExecuteTime": {
     "end_time": "2024-09-20T03:45:04.082629Z",
     "start_time": "2024-09-20T03:45:04.076786Z"
    }
   },
   "id": "39be74167fceb8c0",
   "execution_count": 315
  },
  {
   "cell_type": "code",
   "outputs": [],
   "source": [
    "y = np.array(y)"
   ],
   "metadata": {
    "collapsed": false,
    "ExecuteTime": {
     "end_time": "2024-09-20T03:45:04.124942Z",
     "start_time": "2024-09-20T03:45:04.117650Z"
    }
   },
   "id": "acb37093c14f0fbe",
   "execution_count": 316
  },
  {
   "cell_type": "code",
   "outputs": [
    {
     "name": "stdout",
     "output_type": "stream",
     "text": [
      "[[0.49 0.29 0.48 ... 0.56 0.24 0.35]\n",
      " [0.07 0.4  0.48 ... 0.54 0.35 0.44]\n",
      " [0.56 0.4  0.48 ... 0.49 0.37 0.46]\n",
      " ...\n",
      " [0.61 0.47 0.48 ... 0.   0.8  0.32]\n",
      " [0.63 0.75 0.48 ... 0.64 0.73 0.66]\n",
      " [0.71 0.52 0.48 ... 0.64 1.   0.99]]\n"
     ]
    }
   ],
   "source": [
    "print(x)"
   ],
   "metadata": {
    "collapsed": false,
    "ExecuteTime": {
     "end_time": "2024-09-20T03:45:04.234524Z",
     "start_time": "2024-09-20T03:45:04.225972Z"
    }
   },
   "id": "3dc286f83711a3ae",
   "execution_count": 317
  },
  {
   "cell_type": "code",
   "outputs": [
    {
     "name": "stdout",
     "output_type": "stream",
     "text": [
      "[0 0 0 0 0 0 0 0 0 0 0 0 0 0 0 0 0 0 0 0 0 0 0 0 0 0 0 0 0 0 0 0 0 0 0 0 0\n",
      " 0 0 0 0 0 0 0 0 0 0 0 0 0 0 0 0 0 0 0 0 0 0 0 0 0 0 0 0 0 0 0 0 0 0 0 0 0\n",
      " 0 0 0 0 0 0 0 0 0 0 0 0 0 0 0 0 0 0 0 0 0 0 0 0 0 0 0 0 0 0 0 0 0 0 0 0 0\n",
      " 0 0 0 0 0 0 0 0 0 0 0 0 0 0 0 0 0 0 0 0 0 0 0 0 0 0 0 0 0 0 0 0 1 1 1 1 1\n",
      " 1 1 1 1 1 1 1 1 1 1 1 1 1 1 1 1 1 1 1 1 1 1 1 1 1 1 1 1 1 1 1 1 1 1 1 1 1\n",
      " 1 1 1 1 1 1 1 1 1 1 1 1 1 1 1 1 1 1 1 1 1 1 1 1 1 1 1 1 1 1 1 1 1 1 1]\n"
     ]
    }
   ],
   "source": [
    "print(y)"
   ],
   "metadata": {
    "collapsed": false,
    "ExecuteTime": {
     "end_time": "2024-09-20T03:45:04.288219Z",
     "start_time": "2024-09-20T03:45:04.277549Z"
    }
   },
   "id": "5d33c6dab91a411b",
   "execution_count": 318
  },
  {
   "cell_type": "code",
   "outputs": [],
   "source": [
    "#normalize\n",
    "#make the data between the 0 and 1\n"
   ],
   "metadata": {
    "collapsed": false,
    "ExecuteTime": {
     "end_time": "2024-09-20T03:45:04.346964Z",
     "start_time": "2024-09-20T03:45:04.341237Z"
    }
   },
   "id": "ce3fcd300b54ebb6",
   "execution_count": 319
  },
  {
   "cell_type": "code",
   "outputs": [],
   "source": [
    "from sklearn.preprocessing import StandardScaler \n",
    "scaler = StandardScaler()\n",
    "x = scaler.fit_transform(x)"
   ],
   "metadata": {
    "collapsed": false,
    "ExecuteTime": {
     "end_time": "2024-09-20T03:45:04.386765Z",
     "start_time": "2024-09-20T03:45:04.375981Z"
    }
   },
   "id": "e07a5a0471328b57",
   "execution_count": 320
  },
  {
   "cell_type": "code",
   "outputs": [
    {
     "name": "stdout",
     "output_type": "stream",
     "text": [
      "[[ 0.53507846 -1.53279614 -0.06757374 ...  0.73357223 -0.97320664\n",
      "  -0.8017078 ]\n",
      " [-2.07120777 -0.40976657 -0.06757374 ...  0.54292144 -0.50442478\n",
      "  -0.35780919]\n",
      " [ 0.9694595  -0.40976657 -0.06757374 ...  0.06629448 -0.41919172\n",
      "  -0.25916505]\n",
      " ...\n",
      " [ 1.27973167  0.30488861 -0.06757374 ... -4.60464978  1.4133192\n",
      "  -0.949674  ]\n",
      " [ 1.40384054  3.16350933 -0.06757374 ...  1.49617537  1.11500347\n",
      "   0.72727631]\n",
      " [ 1.90027601  0.81535659 -0.06757374 ...  1.49617537  2.26564986\n",
      "   2.35490456]]\n"
     ]
    }
   ],
   "source": [
    "print(x)"
   ],
   "metadata": {
    "collapsed": false,
    "ExecuteTime": {
     "end_time": "2024-09-20T03:45:04.476879Z",
     "start_time": "2024-09-20T03:45:04.466785Z"
    }
   },
   "id": "1eb971a3a2e29f9f",
   "execution_count": 321
  },
  {
   "cell_type": "code",
   "outputs": [],
   "source": [
    "#we spilite the train and the test data "
   ],
   "metadata": {
    "collapsed": false,
    "ExecuteTime": {
     "end_time": "2024-09-20T03:45:04.507260Z",
     "start_time": "2024-09-20T03:45:04.500898Z"
    }
   },
   "id": "27e8e3b6943cc31c",
   "execution_count": 322
  },
  {
   "cell_type": "code",
   "outputs": [],
   "source": [
    "from sklearn.model_selection import train_test_split\n",
    "x_test,x_train,  y_test, y_train = train_test_split (x,y, test_size=0.2)"
   ],
   "metadata": {
    "collapsed": false,
    "ExecuteTime": {
     "end_time": "2024-09-20T03:45:04.572437Z",
     "start_time": "2024-09-20T03:45:04.556285Z"
    }
   },
   "id": "8808bd7595c8821f",
   "execution_count": 323
  },
  {
   "cell_type": "code",
   "outputs": [
    {
     "name": "stdout",
     "output_type": "stream",
     "text": [
      "(176, 7) (176,)\n"
     ]
    }
   ],
   "source": [
    "print(x_test.shape, y_test.shape)"
   ],
   "metadata": {
    "collapsed": false,
    "ExecuteTime": {
     "end_time": "2024-09-20T03:45:04.611108Z",
     "start_time": "2024-09-20T03:45:04.602463Z"
    }
   },
   "id": "249b106e646dfa63",
   "execution_count": 324
  },
  {
   "cell_type": "code",
   "outputs": [
    {
     "name": "stdout",
     "output_type": "stream",
     "text": [
      "(44, 7) (44,)\n"
     ]
    }
   ],
   "source": [
    "print(x_train.shape, y_train.shape)  "
   ],
   "metadata": {
    "collapsed": false,
    "ExecuteTime": {
     "end_time": "2024-09-20T03:45:04.658064Z",
     "start_time": "2024-09-20T03:45:04.651122Z"
    }
   },
   "id": "25264a78c95f6115",
   "execution_count": 325
  },
  {
   "cell_type": "code",
   "outputs": [],
   "source": [
    "#implemenation of Multilayer perceptron"
   ],
   "metadata": {
    "collapsed": false
   },
   "id": "b0fba758e281c7d0",
   "execution_count": 326
  },
  {
   "cell_type": "code",
   "outputs": [],
   "source": [
    "#deinfe the sigmod\n",
    "def sigmode(x):\n",
    "    return 1/(1+np.exp(-x))\n"
   ],
   "metadata": {
    "collapsed": false,
    "ExecuteTime": {
     "end_time": "2024-09-20T03:53:03.669842Z",
     "start_time": "2024-09-20T03:53:03.637441Z"
    }
   },
   "id": "ab5b51da08c11b30",
   "execution_count": 327
  },
  {
   "cell_type": "code",
   "outputs": [],
   "source": [
    "def forward_propagation(x, weightsInputTohiden, weightsInputToOutput):\n",
    "    "
   ],
   "metadata": {
    "collapsed": false
   },
   "id": "820b6f477b3a8d3f"
  }
 ],
 "metadata": {
  "kernelspec": {
   "display_name": "Python 3",
   "language": "python",
   "name": "python3"
  },
  "language_info": {
   "codemirror_mode": {
    "name": "ipython",
    "version": 2
   },
   "file_extension": ".py",
   "mimetype": "text/x-python",
   "name": "python",
   "nbconvert_exporter": "python",
   "pygments_lexer": "ipython2",
   "version": "2.7.6"
  }
 },
 "nbformat": 4,
 "nbformat_minor": 5
}
